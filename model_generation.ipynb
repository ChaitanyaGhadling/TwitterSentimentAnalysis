{
 "cells": [
  {
   "cell_type": "code",
   "execution_count": 1,
   "id": "936fc468",
   "metadata": {},
   "outputs": [
    {
     "name": "stderr",
     "output_type": "stream",
     "text": [
      "21/12/18 11:51:44 WARN Utils: Your hostname, chaitanya-VirtualBox resolves to a loopback address: 127.0.1.1; using 10.0.2.15 instead (on interface enp0s3)\n",
      "21/12/18 11:51:44 WARN Utils: Set SPARK_LOCAL_IP if you need to bind to another address\n",
      "WARNING: An illegal reflective access operation has occurred\n",
      "WARNING: Illegal reflective access by org.apache.spark.unsafe.Platform (file:/home/chaitanya/spark-3.1.2-bin-hadoop2.7/jars/spark-unsafe_2.12-3.1.2.jar) to constructor java.nio.DirectByteBuffer(long,int)\n",
      "WARNING: Please consider reporting this to the maintainers of org.apache.spark.unsafe.Platform\n",
      "WARNING: Use --illegal-access=warn to enable warnings of further illegal reflective access operations\n",
      "WARNING: All illegal access operations will be denied in a future release\n",
      "21/12/18 11:51:46 WARN NativeCodeLoader: Unable to load native-hadoop library for your platform... using builtin-java classes where applicable\n",
      "Using Spark's default log4j profile: org/apache/spark/log4j-defaults.properties\n",
      "Setting default log level to \"WARN\".\n",
      "To adjust logging level use sc.setLogLevel(newLevel). For SparkR, use setLogLevel(newLevel).\n"
     ]
    }
   ],
   "source": [
    "from pyspark.sql import SparkSession\n",
    "spark=SparkSession.builder.appName('random_forest').getOrCreate()"
   ]
  },
  {
   "cell_type": "code",
   "execution_count": 2,
   "id": "a309e9a9",
   "metadata": {},
   "outputs": [
    {
     "name": "stderr",
     "output_type": "stream",
     "text": [
      "                                                                                \r"
     ]
    }
   ],
   "source": [
    "df_train = spark.read.csv('training.csv',inferSchema=True,header=False)\n",
    "df_test = spark.read.csv('testdata.csv',inferSchema=True,header=False)"
   ]
  },
  {
   "cell_type": "code",
   "execution_count": 4,
   "id": "098ca300",
   "metadata": {},
   "outputs": [
    {
     "name": "stdout",
     "output_type": "stream",
     "text": [
      "+---+----------+--------------------+--------+---------------+--------------------+\n",
      "|_c0|       _c1|                 _c2|     _c3|            _c4|                 _c5|\n",
      "+---+----------+--------------------+--------+---------------+--------------------+\n",
      "|  0|1467810369|Mon Apr 06 22:19:...|NO_QUERY|_TheSpecialOne_|@switchfoot http:...|\n",
      "|  0|1467810672|Mon Apr 06 22:19:...|NO_QUERY|  scotthamilton|is upset that he ...|\n",
      "|  0|1467810917|Mon Apr 06 22:19:...|NO_QUERY|       mattycus|@Kenichan I dived...|\n",
      "|  0|1467811184|Mon Apr 06 22:19:...|NO_QUERY|        ElleCTF|my whole body fee...|\n",
      "|  0|1467811193|Mon Apr 06 22:19:...|NO_QUERY|         Karoli|@nationwideclass ...|\n",
      "+---+----------+--------------------+--------+---------------+--------------------+\n",
      "only showing top 5 rows\n",
      "\n"
     ]
    }
   ],
   "source": [
    "df_train.show(5)"
   ]
  },
  {
   "cell_type": "code",
   "execution_count": 8,
   "id": "5438e16a",
   "metadata": {},
   "outputs": [
    {
     "name": "stdout",
     "output_type": "stream",
     "text": [
      "+---+---+--------------------+-------+--------------+--------------------+\n",
      "|_c0|_c1|                 _c2|    _c3|           _c4|                 _c5|\n",
      "+---+---+--------------------+-------+--------------+--------------------+\n",
      "|  4|  3|Mon May 11 03:17:...|kindle2|        tpryan|@stellargirl I lo...|\n",
      "|  4|  4|Mon May 11 03:18:...|kindle2|        vcu451|Reading my kindle...|\n",
      "|  4|  5|Mon May 11 03:18:...|kindle2|        chadfu|Ok, first assesme...|\n",
      "|  4|  6|Mon May 11 03:19:...|kindle2|         SIX15|@kenburbary You'l...|\n",
      "|  4|  7|Mon May 11 03:21:...|kindle2|      yamarama|@mikefish  Fair e...|\n",
      "|  4|  8|Mon May 11 03:22:...|kindle2|  GeorgeVHulme|@richardebaker no...|\n",
      "|  0|  9|Mon May 11 03:22:...|    aig|       Seth937|Fuck this economy...|\n",
      "|  4| 10|Mon May 11 03:26:...| jquery|     dcostalis|Jquery is my new ...|\n",
      "|  4| 11|Mon May 11 03:27:...|twitter|       PJ_King|       Loves twitter|\n",
      "|  4| 12|Mon May 11 03:29:...|  obama|   mandanicole|how can you not l...|\n",
      "|  0| 14|Mon May 11 03:32:...|  obama|   kylesellers|@Karoli I firmly ...|\n",
      "|  4| 15|Mon May 11 03:33:...|  obama|   theviewfans|House Corresponde...|\n",
      "|  4| 16|Mon May 11 05:05:...|   nike|        MumsFP|Watchin Espn..Jus...|\n",
      "|  0| 17|Mon May 11 05:06:...|   nike|   vincentx24x|dear nike, stop w...|\n",
      "|  4| 18|Mon May 11 05:20:...| lebron|  cameronwylie|#lebron best athl...|\n",
      "|  0| 19|Mon May 11 05:20:...| lebron|       luv8242|I was talking to ...|\n",
      "|  4| 20|Mon May 11 05:21:...| lebron|    mtgillikin|i love lebron. ht...|\n",
      "|  0| 21|Mon May 11 05:21:...| lebron|ursecretdezire|@ludajuice Lebron...|\n",
      "|  4| 22|Mon May 11 05:21:...| lebron|     Native_01|@Pmillzz lebron I...|\n",
      "|  4| 23|Mon May 11 05:22:...| lebron|  princezzcutz|@sketchbug Lebron...|\n",
      "+---+---+--------------------+-------+--------------+--------------------+\n",
      "only showing top 20 rows\n",
      "\n"
     ]
    }
   ],
   "source": [
    "df_test = df_test.filter(df_test._c0 != 2)\n",
    "df_test.show()"
   ]
  },
  {
   "cell_type": "code",
   "execution_count": 9,
   "id": "7da66ccd",
   "metadata": {},
   "outputs": [],
   "source": [
    "from pyspark.ml.feature import RegexTokenizer, StopWordsRemover, CountVectorizer\n",
    "\n",
    "from pyspark.ml import Pipeline\n",
    "from pyspark.ml.feature import OneHotEncoder, StringIndexer, VectorAssembler\n",
    "from pyspark.ml.classification import RandomForestClassifier"
   ]
  },
  {
   "cell_type": "code",
   "execution_count": 10,
   "id": "3ff89e73",
   "metadata": {},
   "outputs": [],
   "source": [
    "regexTokenizer = RegexTokenizer(inputCol=\"_c5\", outputCol=\"tokens\", pattern=\"\\\\W\")\n",
    "add_stopwords = [\"http\",\"https\",\"amp\",\"rt\",\"t\",\"c\",\"the\",\"@\"]\n",
    "stopwordsRemover = StopWordsRemover(inputCol=\"tokens\", outputCol=\"clean_tokens\").setStopWords(add_stopwords)\n",
    "countVectors = CountVectorizer(inputCol=\"clean_tokens\", outputCol=\"features\", vocabSize=10000, minDF=5)\n",
    "label_stringIdx = StringIndexer(inputCol = \"_c0\", outputCol = \"label\")\n",
    "rf = RandomForestClassifier(labelCol=\"label\", featuresCol=\"features\", numTrees=100, seed=100)\n",
    "pipeline = Pipeline(stages=[regexTokenizer, stopwordsRemover, countVectors, label_stringIdx, rf])"
   ]
  },
  {
   "cell_type": "code",
   "execution_count": 11,
   "id": "ec8dd7cb",
   "metadata": {},
   "outputs": [
    {
     "name": "stderr",
     "output_type": "stream",
     "text": [
      "21/12/18 12:06:25 WARN MemoryStore: Not enough space to cache rdd_70_1 in memory! (computed 85.0 MiB so far)\n",
      "21/12/18 12:06:25 WARN BlockManager: Persisting block rdd_70_1 to disk instead.\n",
      "21/12/18 12:06:25 WARN MemoryStore: Not enough space to cache rdd_70_0 in memory! (computed 85.0 MiB so far)\n",
      "21/12/18 12:06:25 WARN BlockManager: Persisting block rdd_70_0 to disk instead.\n",
      "21/12/18 12:06:26 WARN MemoryStore: Not enough space to cache rdd_70_2 in memory! (computed 196.3 MiB so far)\n",
      "21/12/18 12:06:26 WARN BlockManager: Persisting block rdd_70_2 to disk instead.\n",
      "21/12/18 12:06:27 WARN MemoryStore: Not enough space to cache rdd_70_3 in memory! (computed 196.3 MiB so far)\n",
      "21/12/18 12:06:27 WARN BlockManager: Persisting block rdd_70_3 to disk instead.\n",
      "21/12/18 12:10:07 WARN MemoryStore: Not enough space to cache rdd_70_3 in memory! (computed 294.5 MiB so far)\n",
      "21/12/18 12:10:27 WARN MemoryStore: Not enough space to cache rdd_70_2 in memory! (computed 294.5 MiB so far)\n",
      "21/12/18 12:10:46 WARN MemoryStore: Not enough space to cache rdd_70_1 in memory! (computed 294.5 MiB so far)\n",
      "21/12/18 12:10:48 WARN MemoryStore: Not enough space to cache rdd_70_0 in memory! (computed 294.5 MiB so far)\n",
      "21/12/18 12:12:37 WARN MemoryStore: Not enough space to cache rdd_70_1 in memory! (computed 85.0 MiB so far)\n",
      "21/12/18 12:12:37 WARN MemoryStore: Not enough space to cache rdd_70_0 in memory! (computed 85.0 MiB so far)\n",
      "21/12/18 12:12:37 WARN MemoryStore: Not enough space to cache rdd_70_2 in memory! (computed 130.6 MiB so far)\n",
      "21/12/18 12:12:37 WARN MemoryStore: Not enough space to cache rdd_70_3 in memory! (computed 130.6 MiB so far)\n",
      "21/12/18 12:15:35 WARN MemoryStore: Not enough space to cache rdd_70_2 in memory! (computed 85.0 MiB so far)\n",
      "21/12/18 12:15:35 WARN MemoryStore: Not enough space to cache rdd_70_0 in memory! (computed 85.0 MiB so far)\n",
      "21/12/18 12:15:35 WARN MemoryStore: Not enough space to cache rdd_70_3 in memory! (computed 130.6 MiB so far)\n",
      "21/12/18 12:15:35 WARN MemoryStore: Not enough space to cache rdd_70_1 in memory! (computed 130.6 MiB so far)\n",
      "21/12/18 12:19:09 WARN MemoryStore: Not enough space to cache rdd_70_1 in memory! (computed 85.0 MiB so far)\n",
      "21/12/18 12:19:09 WARN MemoryStore: Not enough space to cache rdd_70_0 in memory! (computed 85.0 MiB so far)\n",
      "21/12/18 12:19:09 WARN MemoryStore: Not enough space to cache rdd_70_2 in memory! (computed 130.6 MiB so far)\n",
      "21/12/18 12:19:09 WARN MemoryStore: Not enough space to cache rdd_70_3 in memory! (computed 130.6 MiB so far)\n",
      "21/12/18 12:22:28 WARN DAGScheduler: Broadcasting large task binary with size 1104.9 KiB\n",
      "21/12/18 12:22:29 WARN MemoryStore: Not enough space to cache rdd_70_1 in memory! (computed 85.0 MiB so far)\n",
      "21/12/18 12:22:29 WARN MemoryStore: Not enough space to cache rdd_70_0 in memory! (computed 85.0 MiB so far)\n",
      "21/12/18 12:22:29 WARN MemoryStore: Not enough space to cache rdd_70_3 in memory! (computed 130.6 MiB so far)\n",
      "21/12/18 12:22:29 WARN MemoryStore: Not enough space to cache rdd_70_2 in memory! (computed 130.6 MiB so far)\n",
      "                                                                                \r"
     ]
    }
   ],
   "source": [
    "pipelineFit = pipeline.fit(df_train)\n",
    "predictions = pipelineFit.transform(df_test)"
   ]
  },
  {
   "cell_type": "code",
   "execution_count": 12,
   "id": "9be8172e",
   "metadata": {},
   "outputs": [
    {
     "name": "stdout",
     "output_type": "stream",
     "text": [
      "+---+---+--------------------+----------------+--------------+--------------------+--------------------+--------------------+--------------------+-----+--------------------+--------------------+----------+\n",
      "|_c0|_c1|                 _c2|             _c3|           _c4|                 _c5|               words|            filtered|            features|label|       rawPrediction|         probability|prediction|\n",
      "+---+---+--------------------+----------------+--------------+--------------------+--------------------+--------------------+--------------------+-----+--------------------+--------------------+----------+\n",
      "|  4|  3|Mon May 11 03:17:...|         kindle2|        tpryan|@stellargirl I lo...|[stellargirl, i, ...|[stellargirl, i, ...|(10000,[0,3,7,8,1...|  1.0|[50.7100424980250...|[0.50710042498025...|       0.0|\n",
      "|  4|  4|Mon May 11 03:18:...|         kindle2|        vcu451|Reading my kindle...|[reading, my, kin...|[reading, my, kin...|(10000,[3,4,7,28,...|  1.0|[47.7941223049679...|[0.47794122304967...|       1.0|\n",
      "|  4|  5|Mon May 11 03:18:...|         kindle2|        chadfu|Ok, first assesme...|[ok, first, asses...|[ok, first, asses...|(10000,[4,11,172,...|  1.0|[49.0475538977125...|[0.49047553897712...|       1.0|\n",
      "|  4|  6|Mon May 11 03:19:...|         kindle2|         SIX15|@kenburbary You'l...|[kenburbary, you,...|[kenburbary, you,...|(10000,[0,2,5,6,7...|  1.0|[48.1185804068248...|[0.48118580406824...|       1.0|\n",
      "|  4|  7|Mon May 11 03:21:...|         kindle2|      yamarama|@mikefish  Fair e...|[mikefish, fair, ...|[mikefish, fair, ...|(10000,[0,4,5,10,...|  1.0|[50.6814375252709...|[0.50681437525270...|       0.0|\n",
      "|  4|  8|Mon May 11 03:22:...|         kindle2|  GeorgeVHulme|@richardebaker no...|[richardebaker, n...|[richardebaker, n...|(10000,[0,4,7,17,...|  1.0|[49.8432004926689...|[0.49843200492668...|       1.0|\n",
      "|  0|  9|Mon May 11 03:22:...|             aig|       Seth937|Fuck this economy...|[fuck, this, econ...|[fuck, this, econ...|(10000,[0,5,25,14...|  0.0|[52.4812124298684...|[0.52481212429868...|       0.0|\n",
      "|  4| 10|Mon May 11 03:26:...|          jquery|     dcostalis|Jquery is my new ...|[jquery, is, my, ...|[jquery, is, my, ...|(10000,[3,7,75,17...|  1.0|[49.2769730256743...|[0.49276973025674...|       1.0|\n",
      "|  4| 11|Mon May 11 03:27:...|         twitter|       PJ_King|       Loves twitter|    [loves, twitter]|    [loves, twitter]|(10000,[100,659],...|  1.0|[49.2057526172545...|[0.49205752617254...|       1.0|\n",
      "|  4| 12|Mon May 11 03:29:...|           obama|   mandanicole|how can you not l...|[how, can, you, n...|[how, can, you, n...|(10000,[6,23,27,4...|  1.0|[47.7270219318851...|[0.47727021931885...|       1.0|\n",
      "|  0| 14|Mon May 11 03:32:...|           obama|   kylesellers|@Karoli I firmly ...|[karoli, i, firml...|[karoli, i, firml...|(10000,[0,1,2,4,5...|  0.0|[52.0500185849048...|[0.52050018584904...|       0.0|\n",
      "|  4| 15|Mon May 11 03:33:...|           obama|   theviewfans|House Corresponde...|[house, correspon...|[house, correspon...|(10000,[2,24,47,7...|  1.0|[49.8631916016666...|[0.49863191601666...|       1.0|\n",
      "|  4| 16|Mon May 11 05:05:...|            nike|        MumsFP|Watchin Espn..Jus...|[watchin, espn, j...|[watchin, espn, j...|(10000,[2,20,24,2...|  1.0|[49.0316948316040...|[0.49031694831604...|       1.0|\n",
      "|  0| 17|Mon May 11 05:06:...|            nike|   vincentx24x|dear nike, stop w...|[dear, nike, stop...|[dear, nike, stop...|(10000,[2,5,7,11,...|  0.0|[47.6441787099359...|[0.47644178709935...|       1.0|\n",
      "|  4| 18|Mon May 11 05:20:...|          lebron|  cameronwylie|#lebron best athl...|[lebron, best, at...|[lebron, best, at...|(10000,[0,1,11,23...|  1.0|[50.9021073149093...|[0.50902107314909...|       0.0|\n",
      "|  0| 19|Mon May 11 05:20:...|          lebron|       luv8242|I was talking to ...|[i, was, talking,...|[i, was, talking,...|(10000,[0,1,2,5,7...|  0.0|[51.5780449312033...|[0.51578044931203...|       0.0|\n",
      "|  4| 20|Mon May 11 05:21:...|          lebron|    mtgillikin|i love lebron. ht...|[i, love, lebron,...|[i, love, lebron,...|(10000,[0,44,129,...|  1.0|[47.818128415939,...|[0.47818128415939...|       1.0|\n",
      "|  0| 21|Mon May 11 05:21:...|          lebron|ursecretdezire|@ludajuice Lebron...|[ludajuice, lebro...|[ludajuice, lebro...|(10000,[0,2,7,17,...|  0.0|[50.8526969226753...|[0.50852696922675...|       0.0|\n",
      "|  4| 22|Mon May 11 05:21:...|          lebron|     Native_01|@Pmillzz lebron I...|[pmillzz, lebron,...|[pmillzz, lebron,...|(10000,[7,1458,31...|  1.0|[49.3019725293980...|[0.49301972529398...|       1.0|\n",
      "|  4| 23|Mon May 11 05:22:...|          lebron|  princezzcutz|@sketchbug Lebron...|[sketchbug, lebro...|[sketchbug, lebro...|(10000,[0,1,2,7,1...|  1.0|[49.0568473724165...|[0.49056847372416...|       1.0|\n",
      "|  4| 24|Mon May 11 05:22:...|          lebron| peterlikewhat|lebron and zydrun...|[lebron, and, zyd...|[lebron, and, zyd...|(10000,[5,35,93,1...|  1.0|[48.1307467435326...|[0.48130746743532...|       1.0|\n",
      "|  4| 25|Mon May 11 05:22:...|          lebron|        emceet|@wordwhizkid Lebr...|[wordwhizkid, leb...|[wordwhizkid, leb...|(10000,[2,7,8,151...|  1.0|[49.7348909960463...|[0.49734890996046...|       1.0|\n",
      "|  4| 26|Mon May 11 06:02:...|      iphone app|   CocoSavanna|downloading apps ...|[downloading, app...|[downloading, app...|(10000,[3,7,9,15,...|  1.0|[50.4350068062254...|[0.50435006806225...|       0.0|\n",
      "|  4| 33|Mon May 11 19:47:...|            visa| DreambigRadio|good news, just h...|[good, news, just...|[good, news, just...|(10000,[0,2,7,11,...|  1.0|[50.7986781432395...|[0.50798678143239...|       0.0|\n",
      "|  4| 34|Mon May 11 19:49:...|      fredwilson|  andrewwatson|http://twurl.nl/e...|[http, twurl, nl,...|[twurl, nl, epkr4...|(10000,[51,52,125...|  1.0|[48.2167382920189...|[0.48216738292018...|       1.0|\n",
      "|  4| 35|Mon May 11 19:50:...|      fredwilson|    fredwilson|In montreal for a...|[in, montreal, fo...|[in, montreal, fo...|(10000,[2,8,9,11,...|  1.0|[49.1337171609568...|[0.49133717160956...|       1.0|\n",
      "|  4| 46|Thu May 14 02:58:...|\"\"\"booz allen\"\"\"|  JoeSchueller|Booz Allen Hamilt...|[booz, allen, ham...|[booz, allen, ham...|(10000,[2,101,117...|  1.0|[49.6211933679943...|[0.49621193367994...|       1.0|\n",
      "|  4| 47|Thu May 14 02:58:...|\"\"\"booz allen\"\"\"|     scottabel|[#MLUC09] Custome...|[mluc09, customer...|[mluc09, customer...|(10000,[633,2431,...|  1.0|[48.9999778657003...|[0.48999977865700...|       1.0|\n",
      "|  4| 49|Thu May 14 05:24:...|             40d|      JustMe_D|@SoChi2 I current...|[sochi2, i, curre...|[sochi2, i, curre...|(10000,[0,3,4,5,9...|  1.0|[50.2168491974878...|[0.50216849197487...|       0.0|\n",
      "|  4|118|Sat May 16 16:19:...|          google|        J_Holl|@phyreman9 Google...|[phyreman9, googl...|[phyreman9, googl...|(10000,[0,1,2,3,7...|  1.0|[49.7402270375457...|[0.49740227037545...|       1.0|\n",
      "|  0|119|Sat May 16 16:19:...|          google|      vamsmack|Played with an an...|[played, with, an...|[played, with, an...|(10000,[0,3,13,14...|  0.0|[51.9694263248609...|[0.51969426324860...|       0.0|\n",
      "|  0|120|Sat May 16 16:25:...|             aig|      schroncd|US planning to re...|[us, planning, to...|[us, planning, to...|(10000,[1,5,12,21...|  0.0|[49.8212118833909...|[0.49821211883390...|       1.0|\n",
      "|  0|121|Sat May 16 22:42:...|           itchy|   MarissaLeeD|omg so bored &amp...|[omg, so, bored, ...|[omg, so, bored, ...|(10000,[3,15,35,2...|  0.0|[51.1762778887814...|[0.51176277888781...|       0.0|\n",
      "|  0|122|Sat May 16 22:42:...|           itchy|    robloposky|I'm itchy and mis...|[i, m, itchy, and...|[i, m, itchy, and...|(10000,[0,5,17,21...|  0.0|[49.7419614488791...|[0.49741961448879...|       1.0|\n",
      "|  0|123|Sat May 16 22:42:...|           itchy|EdwinLValencia|@sekseemess no. I...|[sekseemess, no, ...|[sekseemess, no, ...|(10000,[0,9,17,23...|  0.0|[50.9139747953062...|[0.50913974795306...|       0.0|\n",
      "|  4|124|Sat May 16 23:48:...|        stanford|    imusicmash|RT @jessverr I lo...|[rt, jessverr, i,...|[jessverr, i, lov...|(10000,[0,14,44,8...|  1.0|[49.5049278495717...|[0.49504927849571...|       1.0|\n",
      "|  4|125|Sat May 16 23:58:...|             lyx|     drewloewe|@spinuzzi: Has be...|[spinuzzi, has, b...|[spinuzzi, has, b...|(10000,[2,4,7,9,1...|  1.0|[50.0478069634219...|[0.50047806963421...|       0.0|\n",
      "|  4|131|Sun May 17 15:05:...|     Danny Gokey|   VickyTigger|\"I'm listening to...|[i, m, listening,...|[i, m, listening,...|(10000,[0,1,17,10...|  1.0|[49.4858436968474...|[0.49485843696847...|       1.0|\n",
      "|  4|132|Sun May 17 17:27:...|           sleep|   babblyabbie|is going to sleep...|[is, going, to, s...|[is, going, to, s...|(10000,[1,2,7,12,...|  1.0|[49.6942036473793...|[0.49694203647379...|       1.0|\n",
      "|  0|133|Sun May 17 17:27:...|           sleep|    kisjoaquin|cant sleep... my ...|[cant, sleep, my,...|[cant, sleep, my,...|(10000,[3,7,114,1...|  0.0|[50.5262757172765...|[0.50526275717276...|       0.0|\n",
      "|  0|134|Sun May 17 17:28:...|           sleep| Whacktackular|Blah, blah, blah ...|[blah, blah, blah...|[blah, blah, blah...|(10000,[0,1,36,39...|  0.0|[51.5390601358814...|[0.51539060135881...|       0.0|\n",
      "|  0|135|Sun May 17 17:29:...|   san francisco|     Adrigonzo|glad i didnt do B...|[glad, i, didnt, ...|[glad, i, didnt, ...|(10000,[0,1,4,8,1...|  0.0|[50.1874198048263...|[0.50187419804826...|       0.0|\n",
      "|  0|139|Sun May 17 17:32:...|             aig|  KennyTRoland|?Obama Administra...|[obama, administr...|[obama, administr...|(10000,[1,129,210...|  0.0|[49.0228565259453...|[0.49022856525945...|       1.0|\n",
      "|  0|140|Sun May 17 17:32:...|             aig|         aMild|started to think ...|[started, to, thi...|[started, to, thi...|(10000,[1,7,8,10,...|  0.0|[49.6332455103329...|[0.49633245510332...|       1.0|\n",
      "|  0|141|Sun May 17 17:32:...|             aig|       Trazor1|ShaunWoo hate'n o...|[shaunwoo, hate, ...|[shaunwoo, hate, ...|(10000,[12,148,23...|  0.0|[51.9794001225695...|[0.51979400122569...|       0.0|\n",
      "|  4|142|Sun May 17 17:35:...|       star trek|      mimknits|@YarnThing you wi...|[yarnthing, you, ...|[yarnthing, you, ...|(10000,[1,4,6,23,...|  1.0|[48.1339334074821...|[0.48133933407482...|       1.0|\n",
      "|  0|145|Mon May 18 01:13:...|Malcolm Gladwell|        renano|annoying new tren...|[annoying, new, t...|[annoying, new, t...|(10000,[1,5,12,13...|  0.0|[49.2430409137272...|[0.49243040913727...|       1.0|\n",
      "|  4|147|Mon May 18 01:14:...|Malcolm Gladwell|      davidm89|Highly recommend:...|[highly, recommen...|[highly, recommen...|(10000,[55,124,39...|  1.0|[48.6082719477854...|[0.48608271947785...|       1.0|\n",
      "|  4|148|Mon May 18 01:15:...|Malcolm Gladwell|       livreal|Blink by malcolm ...|[blink, by, malco...|[blink, by, malco...|(10000,[5,124,240...|  1.0|[48.7679503300932...|[0.48767950330093...|       1.0|\n",
      "|  4|149|Mon May 18 01:16:...|Malcolm Gladwell|    mikearosso|Malcolm Gladwell ...|[malcolm, gladwel...|[malcolm, gladwel...|(10000,[3,21,75,2...|  1.0|[49.9779570698110...|[0.49977957069811...|       1.0|\n",
      "+---+---+--------------------+----------------+--------------+--------------------+--------------------+--------------------+--------------------+-----+--------------------+--------------------+----------+\n",
      "only showing top 50 rows\n",
      "\n"
     ]
    }
   ],
   "source": [
    "predictions.show(50)"
   ]
  },
  {
   "cell_type": "code",
   "execution_count": 13,
   "id": "4acf377d",
   "metadata": {},
   "outputs": [
    {
     "name": "stderr",
     "output_type": "stream",
     "text": [
      "[Stage 36:==================================================>     (67 + 4) / 75]\r"
     ]
    },
    {
     "name": "stdout",
     "output_type": "stream",
     "text": [
      "+----------+-----+\n",
      "|prediction|count|\n",
      "+----------+-----+\n",
      "|       0.0|  124|\n",
      "|       1.0|  235|\n",
      "+----------+-----+\n",
      "\n"
     ]
    },
    {
     "name": "stderr",
     "output_type": "stream",
     "text": [
      "\r",
      "                                                                                \r"
     ]
    }
   ],
   "source": [
    "predictions.groupBy('prediction').count().show()"
   ]
  },
  {
   "cell_type": "code",
   "execution_count": 14,
   "id": "3ca1c146",
   "metadata": {},
   "outputs": [],
   "source": [
    "from pyspark.ml.evaluation import BinaryClassificationEvaluator\n",
    "from pyspark.ml.evaluation import MulticlassClassificationEvaluator"
   ]
  },
  {
   "cell_type": "code",
   "execution_count": 15,
   "id": "0db73690",
   "metadata": {},
   "outputs": [
    {
     "name": "stdout",
     "output_type": "stream",
     "text": [
      "The accuracy of RF on test data is 71%\n"
     ]
    }
   ],
   "source": [
    "rf_accuracy=MulticlassClassificationEvaluator(labelCol='label',metricName='accuracy').evaluate(predictions)\n",
    "print('The accuracy of RF on test data is {0:.0%}'.format(rf_accuracy))"
   ]
  },
  {
   "cell_type": "code",
   "execution_count": 16,
   "id": "b7497046",
   "metadata": {},
   "outputs": [
    {
     "name": "stdout",
     "output_type": "stream",
     "text": [
      "The precision rate on test data is 73%\n"
     ]
    }
   ],
   "source": [
    "rf_precision=MulticlassClassificationEvaluator(labelCol='label',metricName='weightedPrecision').evaluate(predictions)\n",
    "print('The precision rate on test data is {0:.0%}'.format(rf_precision))"
   ]
  },
  {
   "cell_type": "code",
   "execution_count": 17,
   "id": "d6a6e8e9",
   "metadata": {},
   "outputs": [
    {
     "name": "stdout",
     "output_type": "stream",
     "text": [
      "0.7818495064257794\n"
     ]
    }
   ],
   "source": [
    "rf_auc=BinaryClassificationEvaluator(labelCol='label').evaluate(predictions)\n",
    "print(rf_auc)"
   ]
  },
  {
   "cell_type": "code",
   "execution_count": 21,
   "id": "6b07d535",
   "metadata": {},
   "outputs": [
    {
     "name": "stderr",
     "output_type": "stream",
     "text": [
      "                                                                                \r"
     ]
    }
   ],
   "source": [
    "pipelineFit.save(\"./Sentiment_Analysis_model\")"
   ]
  },
  {
   "cell_type": "code",
   "execution_count": null,
   "id": "b4100105",
   "metadata": {},
   "outputs": [],
   "source": []
  }
 ],
 "metadata": {
  "kernelspec": {
   "display_name": "Python 3 (ipykernel)",
   "language": "python",
   "name": "python3"
  },
  "language_info": {
   "codemirror_mode": {
    "name": "ipython",
    "version": 3
   },
   "file_extension": ".py",
   "mimetype": "text/x-python",
   "name": "python",
   "nbconvert_exporter": "python",
   "pygments_lexer": "ipython3",
   "version": "3.8.10"
  }
 },
 "nbformat": 4,
 "nbformat_minor": 5
}
